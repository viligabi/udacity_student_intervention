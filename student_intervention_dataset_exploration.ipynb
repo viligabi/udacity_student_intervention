{
 "cells": [
  {
   "cell_type": "markdown",
   "metadata": {},
   "source": [
    "# Machine Learning Engineer Nanodegree\n",
    "## Supervised Learning\n",
    "## Project 2: Exploring the dataset of Student Intervention System"
   ]
  },
  {
   "cell_type": "markdown",
   "metadata": {},
   "source": [
    "In this notebook I'm trying to visualize the dataset in order to get a better understanding of it."
   ]
  },
  {
   "cell_type": "code",
   "execution_count": 1,
   "metadata": {
    "collapsed": false
   },
   "outputs": [
    {
     "name": "stdout",
     "output_type": "stream",
     "text": [
      "Student data read successfully!\n"
     ]
    }
   ],
   "source": [
    "\n",
    "# Import libraries\n",
    "import numpy as np\n",
    "import pandas as pd\n",
    "import matplotlib.pyplot as plt\n",
    "%matplotlib inline  \n",
    "\n",
    "# Read student data\n",
    "student_data = pd.read_csv(\"student-data.csv\")\n",
    "print \"Student data read successfully!\""
   ]
  },
  {
   "cell_type": "code",
   "execution_count": 2,
   "metadata": {
    "collapsed": false
   },
   "outputs": [
    {
     "name": "stdout",
     "output_type": "stream",
     "text": [
      "number of instances:\t395\n",
      "number of features:\t31\n",
      "Index([u'school', u'sex', u'age', u'address', u'famsize', u'Pstatus', u'Medu',\n",
      "       u'Fedu', u'Mjob', u'Fjob', u'reason', u'guardian', u'traveltime',\n",
      "       u'studytime', u'failures', u'schoolsup', u'famsup', u'paid',\n",
      "       u'activities', u'nursery', u'higher', u'internet', u'romantic',\n",
      "       u'famrel', u'freetime', u'goout', u'Dalc', u'Walc', u'health',\n",
      "       u'absences', u'passed'],\n",
      "      dtype='object')\n"
     ]
    },
    {
     "data": {
      "text/plain": [
       "school        object\n",
       "sex           object\n",
       "age            int64\n",
       "address       object\n",
       "famsize       object\n",
       "Pstatus       object\n",
       "Medu           int64\n",
       "Fedu           int64\n",
       "Mjob          object\n",
       "Fjob          object\n",
       "reason        object\n",
       "guardian      object\n",
       "traveltime     int64\n",
       "studytime      int64\n",
       "failures       int64\n",
       "schoolsup     object\n",
       "famsup        object\n",
       "paid          object\n",
       "activities    object\n",
       "nursery       object\n",
       "higher        object\n",
       "internet      object\n",
       "romantic      object\n",
       "famrel         int64\n",
       "freetime       int64\n",
       "goout          int64\n",
       "Dalc           int64\n",
       "Walc           int64\n",
       "health         int64\n",
       "absences       int64\n",
       "passed        object\n",
       "dtype: object"
      ]
     },
     "execution_count": 2,
     "metadata": {},
     "output_type": "execute_result"
    }
   ],
   "source": [
    "print \"number of instances:\\t\" + str(student_data.shape[0]) + \"\\nnumber of features:\\t\" + str(student_data.shape[1])\n",
    "print student_data.columns\n",
    "student_data.describe()\n",
    "student_data.dtypes"
   ]
  },
  {
   "cell_type": "code",
   "execution_count": 55,
   "metadata": {
    "collapsed": false
   },
   "outputs": [],
   "source": [
    "def occurenceplot(col):\n",
    "    fig = plt.figure() # Create matplotlib figure\n",
    "\n",
    "    ax = fig.add_subplot(111) # Create matplotlib axes\n",
    "\n",
    "    width = 0.4\n",
    "    #col= \"absences\"\n",
    "    #TODO: merge indexes\n",
    "    all_values = pd.DataFrame(np.unique(student_data.absences))\n",
    "    all_values.set_index(0)\n",
    "    \n",
    "    # calculate the relative occurences\n",
    "    passed = student_data_passed[[col]].apply(pd.value_counts)/student_data_passed.shape[0]\n",
    "    failed = student_data_failed[[col]].apply(pd.value_counts)/student_data_failed.shape[0]\n",
    "    \n",
    "    passed.sort_index().plot(kind='bar', color='red', ax=ax, width=width, position=1)\n",
    "    failed.sort_index().plot(kind='bar', color='blue', ax=ax, width=width, position=0)\n",
    "    \n",
    "    ax.legend([\"passed\", \"failed\"]);\n",
    "    ax.set_ylabel('Amount')\n",
    "    ax.set_xlabel(col)\n",
    "    plt.xticks(x=np.unique(student_data[col]),rotation='horizontal')\n",
    "    plt.gca().set_xlim(left=-0.5)\n",
    "    plt.show()\n",
    "    return\n"
   ]
  },
  {
   "cell_type": "code",
   "execution_count": 57,
   "metadata": {
    "collapsed": false
   },
   "outputs": [
    {
     "name": "stdout",
     "output_type": "stream",
     "text": [
      "[ 0  1  2  3  4  5  6  7  8  9 10 11 12 13 14 16 17 18 19 20 21 22 23 24 25\n",
      " 40 54]\n",
      "[ 0  2  3  4  5  6  7  8  9 10 11 12 13 14 15 16 18 20 22 26 28 30 38 56 75]\n",
      "[ 0  1  2  3  4  5  6  7  8  9 10 11 12 13 14 15 16 17 18 19 20 21 22 23 24\n",
      " 25 26 28 30 38 40 54 56 75]\n"
     ]
    },
    {
     "data": {
      "image/png": "[encoded data removed]",
      "text/plain": [
       "<matplotlib.figure.Figure at 0xa944ba8>"
      ]
     },
     "metadata": {},
     "output_type": "display_data"
    }
   ],
   "source": [
    "student_data_passed = student_data[student_data.passed=='yes']\n",
    "student_data_failed = student_data[student_data.passed=='no']\n",
    "\n",
    "x = student_data_failed[[\"absences\"]].apply(pd.value_counts)/student_data_passed.shape[0]\n",
    "print np.unique(student_data_passed.absences)\n",
    "print np.unique(student_data_failed.absences)\n",
    "print np.unique(student_data.absences)\n",
    "occurenceplot(\"absences\")\n",
    "#for column in student_data.columns: occurenceplot(column)"
   ]
  },
  {
   "cell_type": "code",
   "execution_count": null,
   "metadata": {
    "collapsed": true
   },
   "outputs": [],
   "source": []
  }
 ],
 "metadata": {
  "kernelspec": {
   "display_name": "Python 2",
   "language": "python",
   "name": "python2"
  },
  "language_info": {
   "codemirror_mode": {
    "name": "ipython",
    "version": 2
   },
   "file_extension": ".py",
   "mimetype": "text/x-python",
   "name": "python",
   "nbconvert_exporter": "python",
   "pygments_lexer": "ipython2",
   "version": "2.7.11"
  }
 },
 "nbformat": 4,
 "nbformat_minor": 0
}
