{
 "cells": [
  {
   "cell_type": "markdown",
   "metadata": {},
   "source": [
    "## Machine Learning Engineer Nanodegree\n",
    "## Supervised Learning\n",
    "## Project 2: Building a Student Intervention System"
   ]
  },
  {
   "cell_type": "markdown",
   "metadata": {},
   "source": [
    "Welcome to the second project of the Machine Learning Engineer Nanodegree! In this notebook, some template code has already been provided for you, and it will be your job to implement the additional functionality necessary to successfully complete this project. Sections that begin with **'Implementation'** in the header indicate that the following block of code will require additional functionality which you must provide. Instructions will be provided for each section and the specifics of the implementation are marked in the code block with a `'TODO'` statement. Please be sure to read the instructions carefully!\n",
    "\n",
    "In addition to implementing code, there will be questions that you must answer which relate to the project and your implementation. Each section where you will answer a question is preceded by a **'Question X'** header. Carefully read each question and provide thorough answers in the following text boxes that begin with **'Answer:'**. Your project submission will be evaluated based on your answers to each of the questions and the implementation you provide.  \n",
    "\n",
    ">**Note:** Code and Markdown cells can be executed using the **Shift + Enter** keyboard shortcut. In addition, Markdown cells can be edited by typically double-clicking the cell to enter edit mode."
   ]
  },
  {
   "cell_type": "markdown",
   "metadata": {},
   "source": [
    "### Question 1 - Classification vs. Regression\n",
    "*Your goal for this project is to identify students who might need early intervention before they fail to graduate. Which type of supervised learning problem is this, classification or regression? Why?*"
   ]
  },
  {
   "cell_type": "markdown",
   "metadata": {},
   "source": [
    "**Answer: **\n",
    "\n",
    "The problem can be solved generally two ways:\n",
    "\n",
    "**1. Regression**: if the interesting information for us if _how_ well will perform the student on the final exam (i.e. 1 to 10 scale) or what is the chance that the student will not pass on the final exam.\n",
    "\n",
    "**2. Classification**: can be used if we want to setup classes, like grade (A, B, C etc.) or will/won't pass\n",
    "\n",
    "In this particular case the goal is to select the student by whom the intervention is needed in order to pass on the final exam. The outcome should be binary (intervention needed / not needed), therefore I'll go for the classification."
   ]
  },
  {
   "cell_type": "markdown",
   "metadata": {},
   "source": [
    "## Exploring the Data\n",
    "Run the code cell below to load necessary Python libraries and load the student data. Note that the last column from this dataset, `'passed'`, will be our target label (whether the student graduated or didn't graduate). All other columns are features about each student."
   ]
  },
  {
   "cell_type": "code",
   "execution_count": 1,
   "metadata": {
    "collapsed": false
   },
   "outputs": [
    {
     "name": "stdout",
     "output_type": "stream",
     "text": [
      "Student data read successfully!\n"
     ]
    }
   ],
   "source": [
    "# Import libraries\n",
    "import numpy as np\n",
    "import pandas as pd\n",
    "from time import time\n",
    "from sklearn.metrics import f1_score\n",
    "\n",
    "# Read student data\n",
    "student_data = pd.read_csv(\"student-data.csv\")\n",
    "print \"Student data read successfully!\""
   ]
  },
  {
   "cell_type": "markdown",
   "metadata": {},
   "source": [
    "### Implementation: Data Exploration\n",
    "Let's begin by investigating the dataset to determine how many students we have information on, and learn about the graduation rate among these students. In the code cell below, you will need to compute the following:\n",
    "- The total number of students, `n_students`.\n",
    "- The total number of features for each student, `n_features`.\n",
    "- The number of those students who passed, `n_passed`.\n",
    "- The number of those students who failed, `n_failed`.\n",
    "- The graduation rate of the class, `grad_rate`, in percent (%).\n"
   ]
  },
  {
   "cell_type": "code",
   "execution_count": 2,
   "metadata": {
    "collapsed": false
   },
   "outputs": [
    {
     "name": "stdout",
     "output_type": "stream",
     "text": [
      "Total number of students: 395\n",
      "Number of features: 30\n",
      "Number of students who passed: 265\n",
      "Number of students who failed: 130\n",
      "Graduation rate of the class: 67.09%\n"
     ]
    }
   ],
   "source": [
    "# TODO: Calculate number of students\n",
    "n_students = student_data.shape[0]\n",
    "\n",
    "# TODO: Calculate number of features\n",
    "# \"passed\" column is also included, so it needs to be deducted\n",
    "n_features = student_data.shape[1]-1\n",
    "\n",
    "# TODO: Calculate passing students\n",
    "n_passed = student_data.loc[student_data[\"passed\"]==\"yes\"].shape[0]\n",
    "\n",
    "# TODO: Calculate failing students\n",
    "n_failed = student_data.loc[student_data[\"passed\"]==\"no\"].shape[0]\n",
    "\n",
    "# TODO: Calculate graduation rate\n",
    "grad_rate = (float(n_passed)/(n_passed + n_failed))*100\n",
    "\n",
    "# Print the results\n",
    "print \"Total number of students: {}\".format(n_students)\n",
    "print \"Number of features: {}\".format(n_features)\n",
    "print \"Number of students who passed: {}\".format(n_passed)\n",
    "print \"Number of students who failed: {}\".format(n_failed)\n",
    "print \"Graduation rate of the class: {:.2f}%\".format(grad_rate)"
   ]
  },
  {
   "cell_type": "markdown",
   "metadata": {},
   "source": [
    "## Preparing the Data\n",
    "In this section, we will prepare the data for modeling, training and testing.\n",
    "\n",
    "### Identify feature and target columns\n",
    "It is often the case that the data you obtain contains non-numeric features. This can be a problem, as most machine learning algorithms expect numeric data to perform computations with.\n",
    "\n",
    "Run the code cell below to separate the student data into feature and target columns to see if any features are non-numeric."
   ]
  },
  {
   "cell_type": "code",
   "execution_count": 3,
   "metadata": {
    "collapsed": false
   },
   "outputs": [
    {
     "name": "stdout",
     "output_type": "stream",
     "text": [
      "Feature columns:\n",
      "['school', 'sex', 'age', 'address', 'famsize', 'Pstatus', 'Medu', 'Fedu', 'Mjob', 'Fjob', 'reason', 'guardian', 'traveltime', 'studytime', 'failures', 'schoolsup', 'famsup', 'paid', 'activities', 'nursery', 'higher', 'internet', 'romantic', 'famrel', 'freetime', 'goout', 'Dalc', 'Walc', 'health', 'absences']\n",
      "\n",
      "Target column: passed\n",
      "\n",
      "Feature values:\n",
      "  school sex  age address famsize Pstatus  Medu  Fedu     Mjob      Fjob  \\\n",
      "0     GP   F   18       U     GT3       A     4     4  at_home   teacher   \n",
      "1     GP   F   17       U     GT3       T     1     1  at_home     other   \n",
      "2     GP   F   15       U     LE3       T     1     1  at_home     other   \n",
      "3     GP   F   15       U     GT3       T     4     2   health  services   \n",
      "4     GP   F   16       U     GT3       T     3     3    other     other   \n",
      "\n",
      "    ...    higher internet  romantic  famrel  freetime goout Dalc Walc health  \\\n",
      "0   ...       yes       no        no       4         3     4    1    1      3   \n",
      "1   ...       yes      yes        no       5         3     3    1    1      3   \n",
      "2   ...       yes      yes        no       4         3     2    2    3      3   \n",
      "3   ...       yes      yes       yes       3         2     2    1    1      5   \n",
      "4   ...       yes       no        no       4         3     2    1    2      5   \n",
      "\n",
      "  absences  \n",
      "0        6  \n",
      "1        4  \n",
      "2       10  \n",
      "3        2  \n",
      "4        4  \n",
      "\n",
      "[5 rows x 30 columns]\n"
     ]
    }
   ],
   "source": [
    "# Extract feature columns\n",
    "feature_cols = list(student_data.columns[:-1])\n",
    "\n",
    "# Extract target column 'passed'\n",
    "target_col = student_data.columns[-1] \n",
    "\n",
    "# Show the list of columns\n",
    "print \"Feature columns:\\n{}\".format(feature_cols)\n",
    "print \"\\nTarget column: {}\".format(target_col)\n",
    "\n",
    "# Separate the data into feature data and target data (X_all and y_all, respectively)\n",
    "X_all = student_data[feature_cols]\n",
    "y_all = student_data[target_col]\n",
    "\n",
    "# Show the feature information by printing the first five rows\n",
    "print \"\\nFeature values:\"\n",
    "print X_all.head()"
   ]
  },
  {
   "cell_type": "markdown",
   "metadata": {},
   "source": [
    "### Preprocess Feature Columns\n",
    "\n",
    "As you can see, there are several non-numeric columns that need to be converted! Many of them are simply `yes`/`no`, e.g. `internet`. These can be reasonably converted into `1`/`0` (binary) values.\n",
    "\n",
    "Other columns, like `Mjob` and `Fjob`, have more than two values, and are known as _categorical variables_. The recommended way to handle such a column is to create as many columns as possible values (e.g. `Fjob_teacher`, `Fjob_other`, `Fjob_services`, etc.), and assign a `1` to one of them and `0` to all others.\n",
    "\n",
    "These generated columns are sometimes called _dummy variables_, and we will use the [`pandas.get_dummies()`](http://pandas.pydata.org/pandas-docs/stable/generated/pandas.get_dummies.html?highlight=get_dummies#pandas.get_dummies) function to perform this transformation. Run the code cell below to perform the preprocessing routine discussed in this section."
   ]
  },
  {
   "cell_type": "code",
   "execution_count": 4,
   "metadata": {
    "collapsed": false
   },
   "outputs": [
    {
     "name": "stdout",
     "output_type": "stream",
     "text": [
      "Processed feature columns (48 total features):\n",
      "['school_GP', 'school_MS', 'sex_F', 'sex_M', 'age', 'address_R', 'address_U', 'famsize_GT3', 'famsize_LE3', 'Pstatus_A', 'Pstatus_T', 'Medu', 'Fedu', 'Mjob_at_home', 'Mjob_health', 'Mjob_other', 'Mjob_services', 'Mjob_teacher', 'Fjob_at_home', 'Fjob_health', 'Fjob_other', 'Fjob_services', 'Fjob_teacher', 'reason_course', 'reason_home', 'reason_other', 'reason_reputation', 'guardian_father', 'guardian_mother', 'guardian_other', 'traveltime', 'studytime', 'failures', 'schoolsup', 'famsup', 'paid', 'activities', 'nursery', 'higher', 'internet', 'romantic', 'famrel', 'freetime', 'goout', 'Dalc', 'Walc', 'health', 'absences']\n"
     ]
    }
   ],
   "source": [
    "def preprocess_features(X):\n",
    "    ''' Preprocesses the student data and converts non-numeric binary variables into\n",
    "        binary (0/1) variables. Converts categorical variables into dummy variables. '''\n",
    "    \n",
    "    # Initialize new output DataFrame\n",
    "    output = pd.DataFrame(index = X.index)\n",
    "\n",
    "    # Investigate each feature column for the data\n",
    "    for col, col_data in X.iteritems():\n",
    "        \n",
    "        # If data type is non-numeric, replace all yes/no values with 1/0\n",
    "        if col_data.dtype == object:\n",
    "            col_data = col_data.replace(['yes', 'no'], [1, 0])\n",
    "\n",
    "        # If data type is categorical, convert to dummy variables\n",
    "        if col_data.dtype == object:\n",
    "            # Example: 'school' => 'school_GP' and 'school_MS'\n",
    "            col_data = pd.get_dummies(col_data, prefix = col)  \n",
    "        \n",
    "        # Collect the revised columns\n",
    "        output = output.join(col_data)\n",
    "    \n",
    "    return output\n",
    "\n",
    "X_all = preprocess_features(X_all)\n",
    "print \"Processed feature columns ({} total features):\\n{}\".format(len(X_all.columns), list(X_all.columns))\n",
    "\n",
    "X_all.head()\n",
    "#y_all.head()\n",
    "\n",
    "# Scaling the data\n",
    "from sklearn.preprocessing import RobustScaler\n",
    "robust_scaler = RobustScaler()\n",
    "X_all = robust_scaler.fit_transform(X_all)"
   ]
  },
  {
   "cell_type": "markdown",
   "metadata": {},
   "source": [
    "### Implementation: Training and Testing Data Split\n",
    "So far, we have converted all _categorical_ features into numeric values. For the next step, we split the data (both features and corresponding labels) into training and test sets. In the following code cell below, you will need to implement the following:\n",
    "- Randomly shuffle and split the data (`X_all`, `y_all`) into training and testing subsets.\n",
    "  - Use 300 training points (approximately 75%) and 95 testing points (approximately 25%).\n",
    "  - Set a `random_state` for the function(s) you use, if provided.\n",
    "  - Store the results in `X_train`, `X_test`, `y_train`, and `y_test`."
   ]
  },
  {
   "cell_type": "code",
   "execution_count": 5,
   "metadata": {
    "collapsed": false
   },
   "outputs": [
    {
     "name": "stdout",
     "output_type": "stream",
     "text": [
      "Training set has 300 samples.\n",
      "Testing set has 95 samples.\n"
     ]
    }
   ],
   "source": [
    "# TODO: Import any additional functionality you may need here\n",
    "from sklearn.cross_validation import train_test_split\n",
    "\n",
    "# TODO: Set the number of training points\n",
    "num_train = 300.\n",
    "\n",
    "# Set the number of testing points\n",
    "num_test = X_all.shape[0] - num_train\n",
    "\n",
    "# TODO: Shuffle and split the dataset into the number of training and testing points above\n",
    "X_train, X_test, y_train, y_test = train_test_split(X_all, y_all, stratify = y_all, test_size=(num_test/X_all.shape[0]), random_state=1)\n",
    "\n",
    "# Show the results of the split\n",
    "print \"Training set has {} samples.\".format(X_train.shape[0])\n",
    "print \"Testing set has {} samples.\".format(X_test.shape[0])"
   ]
  },
  {
   "cell_type": "markdown",
   "metadata": {},
   "source": [
    "## Training and Evaluating Models\n",
    "In this section, you will choose 3 supervised learning models that are appropriate for this problem and available in `scikit-learn`. You will first discuss the reasoning behind choosing these three models by considering what you know about the data and each model's strengths and weaknesses. You will then fit the model to varying sizes of training data (100 data points, 200 data points, and 300 data points) and measure the F<sub>1</sub> score. You will need to produce three tables (one for each model) that shows the training set size, training time, prediction time, F<sub>1</sub> score on the training set, and F<sub>1</sub> score on the testing set."
   ]
  },
  {
   "cell_type": "markdown",
   "metadata": {},
   "source": [
    "### Question 2 - Model Application\n",
    "*List three supervised learning models that are appropriate for this problem. What are the general applications of each model? What are their strengths and weaknesses? Given what you know about the data, why did you choose these models to be applied?*"
   ]
  },
  {
   "cell_type": "markdown",
   "metadata": {},
   "source": [
    "**Answer: **\n",
    "\n",
    "**SVM**: \n",
    " \n",
    "Pro:\n",
    "* Separates data using linear function (fast predictions)\n",
    "* Maximalizes margin (helps to avoid overfitting)\n",
    "* Using kernel trick (enriching data dimensions) it can solve highly complex issues (high number of features)\n",
    "\n",
    "Con:\n",
    "* Goodness is highly depending on the chosen kernel function (different datasets may need different kernel function)\n",
    "* Sensitivity to noisy data\n",
    "\n",
    "Applications:\n",
    "* Bioinformatics (cancer classification, protein classification etc)\n",
    "* Image classification\n",
    "* Text categorization\n",
    "* Control systems\n",
    "* Environmental sciences (i.e. weather modelling)\n",
    "\n",
    "Why:\n",
    "* Fast prediction is one thing what we are looking for (cost)\n",
    "* After preproccessing the data we have 48 features, which is relatively high\n",
    "* For high variety of probelms it gives good resolution for the first shot, so it worth a try :)\n",
    "\n",
    "**Ensemble**:\n",
    "\n",
    "Pro:\n",
    "* using random subsets of data (bagging) creating rules (weak learning), summing up the \"subrules\" we can create complex rules on dataset\n",
    "* using these complex rules the error rate can be kept relatively low (no overfitting)\n",
    "* high dimensional data can be handled quite well\n",
    "\n",
    "Con:\n",
    "* using too many rules, the training and prediction times might be too much\n",
    "\n",
    "Applications:\n",
    "* like by SVM, problems with high complexity\n",
    "\n",
    "Why:\n",
    "* the dataset has many features -> complexity is high, the classifier is might be good for solving this\n",
    "* well generalized model can be trained\n",
    "\n",
    "**Extra Tree**:\n",
    "\n",
    "Pro:\n",
    "* fast prediction\n",
    "* using extremly randomization it performs better than a simple decision tree\n",
    "\n",
    "Con:\n",
    "* easy to overfit on given data -> not generalizing well enough\n",
    "* ineffective to solve non-linear problems\n",
    "\n",
    "Applications:\n",
    "* physics: detection of particles\n",
    "* molecular biology: amino acid sequence analysis\n",
    "* control systems\n",
    "\n",
    "Why:\n",
    "* low need of preprocessing of data due that the model is using maximum information gain during rule selection\n",
    "* many features are binary -> easily (linearly) separable\n",
    "* fast prediction - low cost\n"
   ]
  },
  {
   "cell_type": "markdown",
   "metadata": {},
   "source": [
    "### Setup\n",
    "Run the code cell below to initialize three helper functions which you can use for training and testing the three supervised learning models you've chosen above. The functions are as follows:\n",
    "- `train_classifier` - takes as input a classifier and training data and fits the classifier to the data.\n",
    "- `predict_labels` - takes as input a fit classifier, features, and a target labeling and makes predictions using the F<sub>1</sub> score.\n",
    "- `train_predict` - takes as input a classifier, and the training and testing data, and performs `train_clasifier` and `predict_labels`.\n",
    " - This function will report the F<sub>1</sub> score for both the training and testing data separately."
   ]
  },
  {
   "cell_type": "code",
   "execution_count": 6,
   "metadata": {
    "collapsed": false
   },
   "outputs": [],
   "source": [
    "def train_classifier(clf, X_train, y_train):\n",
    "    ''' Fits a classifier to the training data. '''\n",
    "    \n",
    "    # Start the clock, train the classifier, then stop the clock\n",
    "    start = time()\n",
    "    clf.fit(X_train, y_train)\n",
    "    end = time()\n",
    "    \n",
    "    # Print the results\n",
    "    print \"Trained model in {:.4f} seconds\".format(end - start)\n",
    "\n",
    "    \n",
    "def predict_labels(clf, features, target):\n",
    "    ''' Makes predictions using a fit classifier based on F1 score. '''\n",
    "    \n",
    "    # Start the clock, make predictions, then stop the clock\n",
    "    start = time()\n",
    "    y_pred = clf.predict(features)\n",
    "    end = time()\n",
    "    \n",
    "    prediction_time = end - start\n",
    "    # Print and return results\n",
    "    print \"Made predictions in {:.4f} seconds.\".format(prediction_time)\n",
    "    return [f1_score(target.values, y_pred, pos_label=\"yes\"), prediction_time]\n",
    "\n",
    "\n",
    "def train_predict(clf, X_train, y_train, X_test, y_test):\n",
    "    ''' Train and predict using a classifer based on F1 score. '''\n",
    "    \n",
    "    clf_name = clf.__class__.__name__\n",
    "    train_len = len(X_train)\n",
    "    \n",
    "    # Indicate the classifier and the training set size\n",
    "    print \"Training a {} using a training set size of {}. . .\".format(clf.__class__.__name__, len(X_train))\n",
    "    \n",
    "    # Train the classifier\n",
    "    train_classifier(clf, X_train, y_train)\n",
    "    f1_train, train_time = predict_labels(clf, X_train, y_train)\n",
    "    f1_test, test_time  = predict_labels(clf, X_test, y_test)\n",
    "    # Print the results of prediction for both training and testing\n",
    "    print \"F1 score for training set: {:.4f}.\".format(f1_train)\n",
    "    print \"F1 score for test set: {:.4f}.\".format(f1_test)\n",
    "    return [[clf_name,train_len,train_time,test_time,f1_train,f1_test]]"
   ]
  },
  {
   "cell_type": "markdown",
   "metadata": {},
   "source": [
    "### Implementation: Model Performance Metrics\n",
    "With the predefined functions above, you will now import the three supervised learning models of your choice and run the `train_predict` function for each one. Remember that you will need to train and predict on each classifier for three different training set sizes: 100, 200, and 300. Hence, you should expect to have 9 different outputs below — 3 for each model using the varying training set sizes. In the following code cell, you will need to implement the following:\n",
    "- Import the three supervised learning models you've discussed in the previous section.\n",
    "- Initialize the three models and store them in `clf_A`, `clf_B`, and `clf_C`.\n",
    " - Use a `random_state` for each model you use, if provided.\n",
    " - **Note:** Use the default settings for each model — you will tune one specific model in a later section.\n",
    "- Create the different training set sizes to be used to train each model.\n",
    " - *Do not reshuffle and resplit the data! The new training points should be drawn from `X_train` and `y_train`.*\n",
    "- Fit each model with each training set size and make predictions on the test set (9 in total).  \n",
    "**Note:** Three tables are provided after the following code cell which can be used to store your results."
   ]
  },
  {
   "cell_type": "code",
   "execution_count": 7,
   "metadata": {
    "collapsed": false
   },
   "outputs": [
    {
     "name": "stdout",
     "output_type": "stream",
     "text": [
      "set has 395 samples.\n",
      "Training set has 100 samples.\n",
      "Testing set has 295 samples.\n",
      "---------------------------------------\n",
      "Training set has 200 samples.\n",
      "Testing set has 195 samples.\n",
      "---------------------------------------\n",
      "Training set has 300 samples.\n",
      "Testing set has 95 samples.\n",
      "---------------------------------------\n",
      "Training a SVC using a training set size of 100. . .\n",
      "Trained model in 0.0010 seconds\n",
      "Made predictions in 0.0010 seconds.\n",
      "Made predictions in 0.0030 seconds.\n",
      "F1 score for training set: 0.8609.\n",
      "F1 score for test set: 0.8093.\n",
      "---------------------------------------\n",
      "Training a SVC using a training set size of 200. . .\n",
      "Trained model in 0.0040 seconds\n",
      "Made predictions in 0.0030 seconds.\n",
      "Made predictions in 0.0030 seconds.\n",
      "F1 score for training set: 0.8387.\n",
      "F1 score for test set: 0.8243.\n",
      "---------------------------------------\n",
      "Training a SVC using a training set size of 300. . .\n",
      "Trained model in 0.0090 seconds\n",
      "Made predictions in 0.0060 seconds.\n",
      "Made predictions in 0.0020 seconds.\n",
      "F1 score for training set: 0.8298.\n",
      "F1 score for test set: 0.8497.\n",
      "---------------------------------------\n",
      "Training a BaggingClassifier using a training set size of 100. . .\n",
      "Trained model in 0.0210 seconds\n",
      "Made predictions in 0.0220 seconds.\n",
      "Made predictions in 0.0460 seconds.\n",
      "F1 score for training set: 0.8592.\n",
      "F1 score for test set: 0.7470.\n",
      "---------------------------------------\n",
      "Training a BaggingClassifier using a training set size of 200. . .\n",
      "Trained model in 0.0190 seconds\n",
      "Made predictions in 0.0460 seconds.\n",
      "Made predictions in 0.0670 seconds.\n",
      "F1 score for training set: 0.8383.\n",
      "F1 score for test set: 0.8133.\n",
      "---------------------------------------\n",
      "Training a BaggingClassifier using a training set size of 300. . .\n",
      "Trained model in 0.0290 seconds\n",
      "Made predictions in 0.1120 seconds.\n",
      "Made predictions in 0.0460 seconds.\n",
      "F1 score for training set: 0.8353.\n",
      "F1 score for test set: 0.7801.\n",
      "---------------------------------------\n",
      "Training a ExtraTreesClassifier using a training set size of 100. . .\n",
      "Trained model in 0.0200 seconds\n",
      "Made predictions in 0.0010 seconds.\n",
      "Made predictions in 0.0020 seconds.\n",
      "F1 score for training set: 1.0000.\n",
      "F1 score for test set: 0.7071.\n",
      "---------------------------------------\n",
      "Training a ExtraTreesClassifier using a training set size of 200. . .\n",
      "Trained model in 0.0270 seconds\n",
      "Made predictions in 0.0010 seconds.\n",
      "Made predictions in 0.0010 seconds.\n",
      "F1 score for training set: 1.0000.\n",
      "F1 score for test set: 0.7482.\n",
      "---------------------------------------\n",
      "Training a ExtraTreesClassifier using a training set size of 300. . .\n",
      "Trained model in 0.0210 seconds\n",
      "Made predictions in 0.0010 seconds.\n",
      "Made predictions in 0.0010 seconds.\n",
      "F1 score for training set: 1.0000.\n",
      "F1 score for test set: 0.6866.\n",
      "---------------------------------------\n"
     ]
    }
   ],
   "source": [
    "# TODO: Import the three supervised learning models from sklearn\n",
    "# from sklearn import model_A\n",
    "from sklearn import svm\n",
    "# from sklearn import model_B\n",
    "from sklearn.ensemble import BaggingClassifier\n",
    "from sklearn.neighbors import KNeighborsClassifier\n",
    "# from skearln import model_C\n",
    "from sklearn.ensemble import ExtraTreesClassifier\n",
    "\n",
    "\n",
    "# TODO: Initialize the three models\n",
    "clf_A = svm.SVC(random_state = 1)\n",
    "clf_B = BaggingClassifier(KNeighborsClassifier(), random_state = 1)\n",
    "clf_C = ExtraTreesClassifier(random_state = 1)\n",
    "\n",
    "# TODO: Set up the training set sizes\n",
    "num_train = 100.\n",
    "num_test = X_all.shape[0] - num_train\n",
    "print \"set has {} samples.\".format(X_all.shape[0])\n",
    "X_train_100, X_test_100, y_train_100, y_test_100 = train_test_split(X_all, y_all, test_size=(num_test/X_all.shape[0]), random_state=1)\n",
    "print \"Training set has {} samples.\".format(X_train_100.shape[0])\n",
    "print \"Testing set has {} samples.\".format(X_test_100.shape[0])\n",
    "print \"---------------------------------------\"\n",
    "num_train = 200.\n",
    "num_test = X_all.shape[0] - num_train\n",
    "X_train_200, X_test_200, y_train_200, y_test_200 = train_test_split(X_all, y_all, test_size=(num_test/X_all.shape[0]), random_state=1)\n",
    "print \"Training set has {} samples.\".format(X_train_200.shape[0])\n",
    "print \"Testing set has {} samples.\".format(X_test_200.shape[0])\n",
    "print \"---------------------------------------\"\n",
    "\n",
    "num_train = 300.\n",
    "num_test = X_all.shape[0] - num_train\n",
    "X_train_300, X_test_300, y_train_300, y_test_300 = train_test_split(X_all, y_all, test_size=(num_test/X_all.shape[0]), random_state=1)\n",
    "print \"Training set has {} samples.\".format(X_train_300.shape[0])\n",
    "print \"Testing set has {} samples.\".format(X_test_300.shape[0])\n",
    "print \"---------------------------------------\"\n",
    "\n",
    "# TODO: Execute the 'train_predict' function for each classifier and each training set size\n",
    "col = [\"Classifier\",\"Training Set Size\",\"Prediction Time (train)\",\"Prediction Time (test)\",\"F1 Score (train)\",\"F1 Score (test)\"]\n",
    "results = pd.DataFrame(columns=col)\n",
    "for clf in [clf_A, clf_B, clf_C]:\n",
    "    res = train_predict(clf, X_train_100, y_train_100, X_test_100, y_test_100)\n",
    "    results = results.append(pd.DataFrame(res, columns=col))\n",
    "    print \"---------------------------------------\"\n",
    "    res = train_predict(clf, X_train_200, y_train_200, X_test_200, y_test_200)\n",
    "    results = results.append(pd.DataFrame(res, columns=col))\n",
    "    print \"---------------------------------------\"\n",
    "    res = train_predict(clf, X_train_300, y_train_300, X_test_300, y_test_300)\n",
    "    results = results.append(pd.DataFrame(res, columns=col))\n",
    "    print \"---------------------------------------\""
   ]
  },
  {
   "cell_type": "markdown",
   "metadata": {},
   "source": [
    "### Tabular Results\n",
    "Edit the cell below to see how a table can be designed in [Markdown](https://github.com/adam-p/markdown-here/wiki/Markdown-Cheatsheet#tables). You can record your results from above in the tables provided."
   ]
  },
  {
   "cell_type": "code",
   "execution_count": 8,
   "metadata": {
    "collapsed": false
   },
   "outputs": [
    {
     "data": {
      "text/html": [
       "<div>\n",
       "<table border=\"1\" class=\"dataframe\">\n",
       "  <thead>\n",
       "    <tr style=\"text-align: right;\">\n",
       "      <th></th>\n",
       "      <th>Classifier</th>\n",
       "      <th>Training Set Size</th>\n",
       "      <th>Prediction Time (train)</th>\n",
       "      <th>Prediction Time (test)</th>\n",
       "      <th>F1 Score (train)</th>\n",
       "      <th>F1 Score (test)</th>\n",
       "    </tr>\n",
       "  </thead>\n",
       "  <tbody>\n",
       "    <tr>\n",
       "      <th>0</th>\n",
       "      <td>SVC</td>\n",
       "      <td>100</td>\n",
       "      <td>0.001</td>\n",
       "      <td>0.003</td>\n",
       "      <td>0.860927</td>\n",
       "      <td>0.809322</td>\n",
       "    </tr>\n",
       "    <tr>\n",
       "      <th>0</th>\n",
       "      <td>SVC</td>\n",
       "      <td>200</td>\n",
       "      <td>0.003</td>\n",
       "      <td>0.003</td>\n",
       "      <td>0.838710</td>\n",
       "      <td>0.824281</td>\n",
       "    </tr>\n",
       "    <tr>\n",
       "      <th>0</th>\n",
       "      <td>SVC</td>\n",
       "      <td>300</td>\n",
       "      <td>0.006</td>\n",
       "      <td>0.002</td>\n",
       "      <td>0.829787</td>\n",
       "      <td>0.849673</td>\n",
       "    </tr>\n",
       "    <tr>\n",
       "      <th>0</th>\n",
       "      <td>BaggingClassifier</td>\n",
       "      <td>100</td>\n",
       "      <td>0.022</td>\n",
       "      <td>0.046</td>\n",
       "      <td>0.859155</td>\n",
       "      <td>0.747045</td>\n",
       "    </tr>\n",
       "    <tr>\n",
       "      <th>0</th>\n",
       "      <td>BaggingClassifier</td>\n",
       "      <td>200</td>\n",
       "      <td>0.046</td>\n",
       "      <td>0.067</td>\n",
       "      <td>0.838284</td>\n",
       "      <td>0.813333</td>\n",
       "    </tr>\n",
       "    <tr>\n",
       "      <th>0</th>\n",
       "      <td>BaggingClassifier</td>\n",
       "      <td>300</td>\n",
       "      <td>0.112</td>\n",
       "      <td>0.046</td>\n",
       "      <td>0.835267</td>\n",
       "      <td>0.780142</td>\n",
       "    </tr>\n",
       "    <tr>\n",
       "      <th>0</th>\n",
       "      <td>ExtraTreesClassifier</td>\n",
       "      <td>100</td>\n",
       "      <td>0.001</td>\n",
       "      <td>0.002</td>\n",
       "      <td>1.000000</td>\n",
       "      <td>0.707071</td>\n",
       "    </tr>\n",
       "    <tr>\n",
       "      <th>0</th>\n",
       "      <td>ExtraTreesClassifier</td>\n",
       "      <td>200</td>\n",
       "      <td>0.001</td>\n",
       "      <td>0.001</td>\n",
       "      <td>1.000000</td>\n",
       "      <td>0.748201</td>\n",
       "    </tr>\n",
       "    <tr>\n",
       "      <th>0</th>\n",
       "      <td>ExtraTreesClassifier</td>\n",
       "      <td>300</td>\n",
       "      <td>0.001</td>\n",
       "      <td>0.001</td>\n",
       "      <td>1.000000</td>\n",
       "      <td>0.686567</td>\n",
       "    </tr>\n",
       "  </tbody>\n",
       "</table>\n",
       "</div>"
      ],
      "text/plain": [
       "             Classifier  Training Set Size  Prediction Time (train)  \\\n",
       "0                   SVC                100                    0.001   \n",
       "0                   SVC                200                    0.003   \n",
       "0                   SVC                300                    0.006   \n",
       "0     BaggingClassifier                100                    0.022   \n",
       "0     BaggingClassifier                200                    0.046   \n",
       "0     BaggingClassifier                300                    0.112   \n",
       "0  ExtraTreesClassifier                100                    0.001   \n",
       "0  ExtraTreesClassifier                200                    0.001   \n",
       "0  ExtraTreesClassifier                300                    0.001   \n",
       "\n",
       "   Prediction Time (test)  F1 Score (train)  F1 Score (test)  \n",
       "0                   0.003          0.860927         0.809322  \n",
       "0                   0.003          0.838710         0.824281  \n",
       "0                   0.002          0.829787         0.849673  \n",
       "0                   0.046          0.859155         0.747045  \n",
       "0                   0.067          0.838284         0.813333  \n",
       "0                   0.046          0.835267         0.780142  \n",
       "0                   0.002          1.000000         0.707071  \n",
       "0                   0.001          1.000000         0.748201  \n",
       "0                   0.001          1.000000         0.686567  "
      ]
     },
     "metadata": {},
     "output_type": "display_data"
    }
   ],
   "source": [
    "from IPython.display import display\n",
    "display(results)"
   ]
  },
  {
   "cell_type": "markdown",
   "metadata": {},
   "source": [
    "***Classifer 1 - SVC***"
   ]
  },
  {
   "cell_type": "code",
   "execution_count": 9,
   "metadata": {
    "collapsed": false
   },
   "outputs": [
    {
     "data": {
      "text/html": [
       "<div>\n",
       "<table border=\"1\" class=\"dataframe\">\n",
       "  <thead>\n",
       "    <tr style=\"text-align: right;\">\n",
       "      <th></th>\n",
       "      <th>Classifier</th>\n",
       "      <th>Training Set Size</th>\n",
       "      <th>Prediction Time (train)</th>\n",
       "      <th>Prediction Time (test)</th>\n",
       "      <th>F1 Score (train)</th>\n",
       "      <th>F1 Score (test)</th>\n",
       "    </tr>\n",
       "  </thead>\n",
       "  <tbody>\n",
       "    <tr>\n",
       "      <th>0</th>\n",
       "      <td>SVC</td>\n",
       "      <td>100</td>\n",
       "      <td>0.001</td>\n",
       "      <td>0.003</td>\n",
       "      <td>0.860927</td>\n",
       "      <td>0.809322</td>\n",
       "    </tr>\n",
       "    <tr>\n",
       "      <th>0</th>\n",
       "      <td>SVC</td>\n",
       "      <td>200</td>\n",
       "      <td>0.003</td>\n",
       "      <td>0.003</td>\n",
       "      <td>0.838710</td>\n",
       "      <td>0.824281</td>\n",
       "    </tr>\n",
       "    <tr>\n",
       "      <th>0</th>\n",
       "      <td>SVC</td>\n",
       "      <td>300</td>\n",
       "      <td>0.006</td>\n",
       "      <td>0.002</td>\n",
       "      <td>0.829787</td>\n",
       "      <td>0.849673</td>\n",
       "    </tr>\n",
       "  </tbody>\n",
       "</table>\n",
       "</div>"
      ],
      "text/plain": [
       "  Classifier  Training Set Size  Prediction Time (train)  \\\n",
       "0        SVC                100                    0.001   \n",
       "0        SVC                200                    0.003   \n",
       "0        SVC                300                    0.006   \n",
       "\n",
       "   Prediction Time (test)  F1 Score (train)  F1 Score (test)  \n",
       "0                   0.003          0.860927         0.809322  \n",
       "0                   0.003          0.838710         0.824281  \n",
       "0                   0.002          0.829787         0.849673  "
      ]
     },
     "execution_count": 9,
     "metadata": {},
     "output_type": "execute_result"
    }
   ],
   "source": [
    "results[results.Classifier==\"SVC\"]"
   ]
  },
  {
   "cell_type": "markdown",
   "metadata": {},
   "source": [
    "***Classifer 2 - Ensemble***"
   ]
  },
  {
   "cell_type": "code",
   "execution_count": 10,
   "metadata": {
    "collapsed": false
   },
   "outputs": [
    {
     "data": {
      "text/html": [
       "<div>\n",
       "<table border=\"1\" class=\"dataframe\">\n",
       "  <thead>\n",
       "    <tr style=\"text-align: right;\">\n",
       "      <th></th>\n",
       "      <th>Classifier</th>\n",
       "      <th>Training Set Size</th>\n",
       "      <th>Prediction Time (train)</th>\n",
       "      <th>Prediction Time (test)</th>\n",
       "      <th>F1 Score (train)</th>\n",
       "      <th>F1 Score (test)</th>\n",
       "    </tr>\n",
       "  </thead>\n",
       "  <tbody>\n",
       "    <tr>\n",
       "      <th>0</th>\n",
       "      <td>BaggingClassifier</td>\n",
       "      <td>100</td>\n",
       "      <td>0.022</td>\n",
       "      <td>0.046</td>\n",
       "      <td>0.859155</td>\n",
       "      <td>0.747045</td>\n",
       "    </tr>\n",
       "    <tr>\n",
       "      <th>0</th>\n",
       "      <td>BaggingClassifier</td>\n",
       "      <td>200</td>\n",
       "      <td>0.046</td>\n",
       "      <td>0.067</td>\n",
       "      <td>0.838284</td>\n",
       "      <td>0.813333</td>\n",
       "    </tr>\n",
       "    <tr>\n",
       "      <th>0</th>\n",
       "      <td>BaggingClassifier</td>\n",
       "      <td>300</td>\n",
       "      <td>0.112</td>\n",
       "      <td>0.046</td>\n",
       "      <td>0.835267</td>\n",
       "      <td>0.780142</td>\n",
       "    </tr>\n",
       "  </tbody>\n",
       "</table>\n",
       "</div>"
      ],
      "text/plain": [
       "          Classifier  Training Set Size  Prediction Time (train)  \\\n",
       "0  BaggingClassifier                100                    0.022   \n",
       "0  BaggingClassifier                200                    0.046   \n",
       "0  BaggingClassifier                300                    0.112   \n",
       "\n",
       "   Prediction Time (test)  F1 Score (train)  F1 Score (test)  \n",
       "0                   0.046          0.859155         0.747045  \n",
       "0                   0.067          0.838284         0.813333  \n",
       "0                   0.046          0.835267         0.780142  "
      ]
     },
     "execution_count": 10,
     "metadata": {},
     "output_type": "execute_result"
    }
   ],
   "source": [
    "results[results.Classifier==\"BaggingClassifier\"]"
   ]
  },
  {
   "cell_type": "markdown",
   "metadata": {},
   "source": [
    "***Classifer 3 - ExtraTreesClassifier***"
   ]
  },
  {
   "cell_type": "code",
   "execution_count": 11,
   "metadata": {
    "collapsed": false
   },
   "outputs": [
    {
     "data": {
      "text/html": [
       "<div>\n",
       "<table border=\"1\" class=\"dataframe\">\n",
       "  <thead>\n",
       "    <tr style=\"text-align: right;\">\n",
       "      <th></th>\n",
       "      <th>Classifier</th>\n",
       "      <th>Training Set Size</th>\n",
       "      <th>Prediction Time (train)</th>\n",
       "      <th>Prediction Time (test)</th>\n",
       "      <th>F1 Score (train)</th>\n",
       "      <th>F1 Score (test)</th>\n",
       "    </tr>\n",
       "  </thead>\n",
       "  <tbody>\n",
       "    <tr>\n",
       "      <th>0</th>\n",
       "      <td>ExtraTreesClassifier</td>\n",
       "      <td>100</td>\n",
       "      <td>0.001</td>\n",
       "      <td>0.002</td>\n",
       "      <td>1</td>\n",
       "      <td>0.707071</td>\n",
       "    </tr>\n",
       "    <tr>\n",
       "      <th>0</th>\n",
       "      <td>ExtraTreesClassifier</td>\n",
       "      <td>200</td>\n",
       "      <td>0.001</td>\n",
       "      <td>0.001</td>\n",
       "      <td>1</td>\n",
       "      <td>0.748201</td>\n",
       "    </tr>\n",
       "    <tr>\n",
       "      <th>0</th>\n",
       "      <td>ExtraTreesClassifier</td>\n",
       "      <td>300</td>\n",
       "      <td>0.001</td>\n",
       "      <td>0.001</td>\n",
       "      <td>1</td>\n",
       "      <td>0.686567</td>\n",
       "    </tr>\n",
       "  </tbody>\n",
       "</table>\n",
       "</div>"
      ],
      "text/plain": [
       "             Classifier  Training Set Size  Prediction Time (train)  \\\n",
       "0  ExtraTreesClassifier                100                    0.001   \n",
       "0  ExtraTreesClassifier                200                    0.001   \n",
       "0  ExtraTreesClassifier                300                    0.001   \n",
       "\n",
       "   Prediction Time (test)  F1 Score (train)  F1 Score (test)  \n",
       "0                   0.002                 1         0.707071  \n",
       "0                   0.001                 1         0.748201  \n",
       "0                   0.001                 1         0.686567  "
      ]
     },
     "execution_count": 11,
     "metadata": {},
     "output_type": "execute_result"
    }
   ],
   "source": [
    "results[results.Classifier==\"ExtraTreesClassifier\"]"
   ]
  },
  {
   "cell_type": "markdown",
   "metadata": {},
   "source": [
    "## Choosing the Best Model\n",
    "In this final section, you will choose from the three supervised learning models the *best* model to use on the student data. You will then perform a grid search optimization for the model over the entire training set (`X_train` and `y_train`) by tuning at least one parameter to improve upon the untuned model's F<sub>1</sub> score. "
   ]
  },
  {
   "cell_type": "markdown",
   "metadata": {},
   "source": [
    "### Question 3 - Chosing the Best Model\n",
    "*Based on the experiments you performed earlier, in one to two paragraphs, explain to the board of supervisors what single model you chose as the best model. Which model is generally the most appropriate based on the available data, limited resources, cost, and performance?*"
   ]
  },
  {
   "cell_type": "markdown",
   "metadata": {},
   "source": [
    "**Answer: **\n",
    "\n",
    "During the rating I'm going to consider the training set size, prediction time and F1 score on test set, since the goal is to predict the unseen data with the lowest cost and fastest way.\n",
    "\n",
    "\n",
    "Using 100 samples to train the prediction time with SVC and decision tree classifiers were equally fast, though the F1 score is ~10% better in case of SVC. By decision tree it can be clearly seen that on the train the classifier overfitted (F1 score is 1) and on the test data it performes worse (0.7).\n",
    "\n",
    "Using more samples samples (300) the decision tree classifier worsend a bit, ensemble classifier got a bit better, by SVC we can see gradual increase in F1 score compared to lower training sample trains. This was not the case by the other two classifiers.\n",
    "The predicition time remained more or less the same as it was by 100 samples in case of classifier 1 and 3, by ensemble classifier it worsened a bit.\n",
    "\n",
    "Generally we can see that the SVC classifier gives us a good generalization with low prediciton time. Decision classifier runs with similar speed, though it does not generalize well on the data, could not avoid the overfit of that model. Ensemble classifier runs with a magnitude of order slower speed, and though generalizes relatively well, the F1 score is not exceptional.\n",
    "\n",
    "I would recommend SVC classifier since it is the most efficient predictor with given data.\n",
    "\n",
    "Later on when more data will be available most probably the F1 score with SVM going to increase, though the training/prediction time going to increase.\n",
    "\n",
    "Approximately by 100.000 datapoints I'd advise to change the model to a model which can handle more effectively bigger datasets like SGD classifier or kernel approximation.\n"
   ]
  },
  {
   "cell_type": "markdown",
   "metadata": {},
   "source": [
    "### Question 4 - Model in Layman's Terms\n",
    "*In one to two paragraphs, explain to the board of directors in layman's terms how the final model chosen is supposed to work. For example if you've chosen to use a decision tree or a support vector machine, how does the model go about making a prediction?*"
   ]
  },
  {
   "cell_type": "markdown",
   "metadata": {},
   "source": [
    "**Answer: **\n",
    "\n",
    "What support vector machine does is basically simple. It is trying to separate the data with a straight line/plane so, that distance (margin) between the line and the closest datapoints (support vectors) must be maximized. This gives us a solid result which has high chance to classify well unseen data.\n",
    "\n",
    "<img src=\"http://dni-institute.in/blogs/wp-content/uploads/2015/09/SVM-Planes.png\">\n",
    "\n",
    "In case if the data cannot be separated with a single line, the machine is giving a \"fake\" dimension (based on a function which is called kernel) to the data in order to be able to make a straight separator plane. This is called kernel trick.\n",
    "The function of kernel can be a custom made one, it depends on structure of the data what will be the best.\n",
    "\n",
    "left pic. below - 2D data nonlinear separating plane \n",
    "\n",
    "right pic. below - 3D data linear separating plane\n",
    "\n",
    "<img src=\"http://i.stack.imgur.com/1gvce.png\">\n",
    "\n",
    "In the case below the inner circle (blue points) clearly cannot be serparated with a line/plane. Using a cubic kernel function it is clear where can we separate the classes.\n",
    "\n",
    "<img src=\"http://www.eric-kim.net/eric-kim-net/posts/1/imgs/data_2d_to_3d.png\">\n",
    "\n",
    "\n",
    "- Since we are maximizing the margin between the different classes of data, we can reach a well generalized model (giving unseen data to the model will highly likely to be still in the desired side of the line).\n",
    "\n",
    "- With additional \"fake\" dimensions we can separate highly complex data (which are very difficult / impossible to describe with simple rules).\n",
    "\n",
    "- \"Fake\" dimensions are enabling us to make very simple rules on data, which enabling us to make the prediction time very fast."
   ]
  },
  {
   "cell_type": "markdown",
   "metadata": {},
   "source": [
    "### Implementation: Model Tuning\n",
    "Fine tune the chosen model. Use grid search (`GridSearchCV`) with at least one important parameter tuned with at least 3 different values. You will need to use the entire training set for this. In the code cell below, you will need to implement the following:\n",
    "- Import [`sklearn.grid_search.gridSearchCV`](http://scikit-learn.org/stable/modules/generated/sklearn.grid_search.GridSearchCV.html) and [`sklearn.metrics.make_scorer`](http://scikit-learn.org/stable/modules/generated/sklearn.metrics.make_scorer.html).\n",
    "- Create a dictionary of parameters you wish to tune for the chosen model.\n",
    " - Example: `parameters = {'parameter' : [list of values]}`.\n",
    "- Initialize the classifier you've chosen and store it in `clf`.\n",
    "- Create the F<sub>1</sub> scoring function using `make_scorer` and store it in `f1_scorer`.\n",
    " - Set the `pos_label` parameter to the correct value!\n",
    "- Perform grid search on the classifier `clf` using `f1_scorer` as the scoring method, and store it in `grid_obj`.\n",
    "- Fit the grid search object to the training data (`X_train`, `y_train`), and store it in `grid_obj`."
   ]
  },
  {
   "cell_type": "code",
   "execution_count": 13,
   "metadata": {
    "collapsed": false
   },
   "outputs": [
    {
     "data": {
      "image/png": "[encoded data removed]",
      "text/plain": [
       "<matplotlib.figure.Figure at 0xeac80d0>"
      ]
     },
     "metadata": {},
     "output_type": "display_data"
    },
    {
     "data": {
      "image/png": "[encoded data removed]",
      "text/plain": [
       "<matplotlib.figure.Figure at 0xeac8d10>"
      ]
     },
     "metadata": {},
     "output_type": "display_data"
    },
    {
     "name": "stdout",
     "output_type": "stream",
     "text": [
      "Made predictions in 0.0090 seconds.\n",
      "Made predictions in 0.0030 seconds.\n",
      "Tuned model has a training F1 score of 0.8777.\n",
      "Tuned model has a testing F1 score of 0.7974.\n"
     ]
    }
   ],
   "source": [
    "# TODO: Import 'gridSearchCV' and 'make_scorer'\n",
    "from sklearn import grid_search\n",
    "from sklearn.metrics import make_scorer\n",
    "from sklearn.metrics import f1_score\n",
    "import matplotlib.pyplot as plt\n",
    "%matplotlib inline  \n",
    "\n",
    "def visual_gridsearch(model, X, y):\n",
    "    from matplotlib import colors\n",
    "    from matplotlib.colors import ListedColormap\n",
    "\n",
    "    ddl_heat = ['#DBDBDB','#DCD5CC','#DCCEBE','#DDC8AF','#DEC2A0','#DEBB91',\\\n",
    "                '#DFB583','#DFAE74','#E0A865','#E1A256','#E19B48','#E29539']\n",
    "    ddlheatmap = colors.ListedColormap(ddl_heat)\n",
    "    C_range = np.logspace(-0.5, 0.5, num=20)\n",
    "    gamma_range = np.logspace(-2, -0.5, num=20)\n",
    "    param_grid = dict(gamma=gamma_range, C=C_range)\n",
    "    grid = grid_search.GridSearchCV(model, param_grid=param_grid)\n",
    "    grid.fit(X, y)\n",
    "    \n",
    "    # get scores and parameters in DataFrame format\n",
    "    scores_pd = pd.DataFrame()\n",
    "    for num in grid.grid_scores_:\n",
    "        v = [v for _, v in num[0].iteritems()]\n",
    "        v.append(num[1])\n",
    "        columns = num[0].keys()\n",
    "        columns.append(\"score\")\n",
    "        tmp = pd.DataFrame(v)\n",
    "        tmp = tmp.T\n",
    "        tmp.columns = columns\n",
    "        scores_pd = scores_pd.append(tmp)\n",
    "        #print num\n",
    "    import seaborn as sns\n",
    "    sns.heatmap(scores_pd.pivot(\"C\",\"gamma\",\"score\"))\n",
    "    \n",
    "    # get scores in list\n",
    "    scores = [x[1] for x in grid.grid_scores_]\n",
    "    scores = np.array(scores).reshape(len(C_range), len(gamma_range))\n",
    "\n",
    "    plt.figure(figsize=(8, 6))\n",
    "    plt.subplots_adjust(left=.2, right=0.95, bottom=0.15, top=0.95)\n",
    "    plt.imshow(scores, interpolation='nearest', cmap=ddlheatmap)\n",
    "    plt.xlabel('gamma')\n",
    "    plt.ylabel('C')\n",
    "    plt.colorbar()\n",
    "    plt.xticks(np.arange(len(gamma_range)), gamma_range, rotation=45)\n",
    "    plt.yticks(np.arange(len(C_range)), C_range)\n",
    "    plt.title(\n",
    "        \"The best parameters are {} with a score of {:0.2f}.\".format(\n",
    "        grid.best_params_, grid.best_score_)\n",
    "    )\n",
    "    plt.show()\n",
    "    return grid\n",
    "\n",
    "grid_obj = visual_gridsearch(svm.SVC(), X_train, y_train)\n",
    "\n",
    "\n",
    "# TODO: Create the parameters list you wish to tune\n",
    "parameters = {\n",
    "    'C':np.logspace(-1, 0.5, num=10),\n",
    "    'gamma': np.logspace(-2, -1, num=10)\n",
    "}\n",
    "\n",
    "# TODO: Initialize the classifier\n",
    "#clf = svm.SVC(kernel = 'rbf')\n",
    "\n",
    "# TODO: Make an f1 scoring function using 'make_scorer' \n",
    "#f1_scorer = make_scorer(f1_score, pos_label=\"yes\")\n",
    "\n",
    "# TODO: Perform grid search on the classifier using the f1_scorer as the scoring method\n",
    "#grid_obj = grid_search.GridSearchCV(clf, parameters, scoring=f1_scorer,cv=2)\n",
    "\n",
    "# TODO: Fit the grid search object to the training data and find the optimal parameters\n",
    "#grid_obj = grid_obj.fit(X_train, y_train)\n",
    "\n",
    "# Get the estimator\n",
    "clf = grid_obj.best_estimator_\n",
    "\n",
    "# Report the final F1 score for training and testing after parameter tuning\n",
    "f1_train,_ = predict_labels(clf, X_train, y_train)\n",
    "f1_test,_ = predict_labels(clf, X_test, y_test)\n",
    "print \"Tuned model has a training F1 score of {:.4f}.\".format(f1_train)\n",
    "print \"Tuned model has a testing F1 score of {:.4f}.\".format(f1_test)"
   ]
  },
  {
   "cell_type": "markdown",
   "metadata": {},
   "source": [
    "### Question 5 - Final F<sub>1</sub> Score\n",
    "*What is the final model's F<sub>1</sub> score for training and testing? How does that score compare to the untuned model?*"
   ]
  },
  {
   "cell_type": "markdown",
   "metadata": {},
   "source": [
    "**Answer: **\n",
    "\n",
    "Due low data availability (395 datapoints) the tuned model cannot perform much better. (same score as untuned)\n",
    "Later on, when more data will be available most probably with correct tuning parameters the model can perform even better than the untuned one."
   ]
  },
  {
   "cell_type": "markdown",
   "metadata": {},
   "source": [
    "> **Note**: Once you have completed all of the code implementations and successfully answered each question above, you may finalize your work by exporting the iPython Notebook as an HTML document. You can do this by using the menu above and navigating to  \n",
    "**File -> Download as -> HTML (.html)**. Include the finished document along with this notebook as your submission."
   ]
  }
 ],
 "metadata": {
  "kernelspec": {
   "display_name": "Python 2",
   "language": "python",
   "name": "python2"
  },
  "language_info": {
   "codemirror_mode": {
    "name": "ipython",
    "version": 2
   },
   "file_extension": ".py",
   "mimetype": "text/x-python",
   "name": "python",
   "nbconvert_exporter": "python",
   "pygments_lexer": "ipython2",
   "version": "2.7.10"
  }
 },
 "nbformat": 4,
 "nbformat_minor": 0
}
